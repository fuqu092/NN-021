{
  "nbformat": 4,
  "nbformat_minor": 0,
  "metadata": {
    "colab": {
      "provenance": []
    },
    "kernelspec": {
      "name": "python3",
      "display_name": "Python 3"
    },
    "language_info": {
      "name": "python"
    }
  },
  "cells": [
    {
      "cell_type": "code",
      "execution_count": 79,
      "metadata": {
        "id": "-OXCdOcnNJc2"
      },
      "outputs": [],
      "source": [
        "import torch\n",
        "import matplotlib.pyplot as plt\n",
        "import random"
      ]
    },
    {
      "cell_type": "code",
      "source": [
        "words = open(\"names.txt\").read().split()"
      ],
      "metadata": {
        "id": "Mw1tQNMTNN2F"
      },
      "execution_count": 4,
      "outputs": []
    },
    {
      "cell_type": "code",
      "source": [
        "len(words)"
      ],
      "metadata": {
        "colab": {
          "base_uri": "https://localhost:8080/"
        },
        "id": "M4T7ufUpNYRy",
        "outputId": "00a7c68d-26df-4833-a328-6ce84d930871"
      },
      "execution_count": 5,
      "outputs": [
        {
          "output_type": "execute_result",
          "data": {
            "text/plain": [
              "32033"
            ]
          },
          "metadata": {},
          "execution_count": 5
        }
      ]
    },
    {
      "cell_type": "code",
      "source": [
        "chars = sorted(set(''.join(words)))\n",
        "stoi = {s:i+1 for i,s in enumerate(chars)}\n",
        "stoi['.'] = 0\n",
        "itos = {i:s for s,i in stoi.items()}"
      ],
      "metadata": {
        "id": "HvhRXlX4NZpv"
      },
      "execution_count": 6,
      "outputs": []
    },
    {
      "cell_type": "code",
      "source": [
        "context_len = 3\n",
        "\n",
        "X, Y = [], []\n",
        "\n",
        "for w in words:\n",
        "  context = [0] * context_len\n",
        "  for ch in w + '.':\n",
        "    X.append(context)\n",
        "    Y.append(stoi[ch])\n",
        "    context = context[1:] + [stoi[ch]]\n",
        "\n",
        "X = torch.tensor(X)\n",
        "Y = torch.tensor(Y)\n",
        "\n",
        "print(f'X Shape: {X.shape}')\n",
        "print(f'X data type: {X.dtype}')\n",
        "print(f'Y Shape: {Y.shape}')\n",
        "print(f'Y data type: {Y.dtype}')"
      ],
      "metadata": {
        "colab": {
          "base_uri": "https://localhost:8080/"
        },
        "id": "rOtU5QmPOSxA",
        "outputId": "548ff3d2-f2e0-4aee-b582-1df83706024e"
      },
      "execution_count": 7,
      "outputs": [
        {
          "output_type": "stream",
          "name": "stdout",
          "text": [
            "X Shape: torch.Size([228146, 3])\n",
            "X data type: torch.int64\n",
            "Y Shape: torch.Size([228146])\n",
            "Y data type: torch.int64\n"
          ]
        }
      ]
    },
    {
      "cell_type": "code",
      "source": [
        "embeddings_matrix = torch.randn((27, 2))"
      ],
      "metadata": {
        "id": "1rhOEJ77Oi36"
      },
      "execution_count": 8,
      "outputs": []
    },
    {
      "cell_type": "code",
      "source": [
        "embeddings = embeddings_matrix[X]\n",
        "embeddings.shape"
      ],
      "metadata": {
        "colab": {
          "base_uri": "https://localhost:8080/"
        },
        "id": "XxgJuYnHPA_r",
        "outputId": "2ca38377-20e0-45a1-d766-fb4d65f66f84"
      },
      "execution_count": 9,
      "outputs": [
        {
          "output_type": "execute_result",
          "data": {
            "text/plain": [
              "torch.Size([228146, 3, 2])"
            ]
          },
          "metadata": {},
          "execution_count": 9
        }
      ]
    },
    {
      "cell_type": "code",
      "source": [
        "#Ways of flattening out\n",
        "way1 = torch.cat((embeddings[:, 0, :], embeddings[:, 1, :], embeddings[:, 2, :]), dim=1)\n",
        "print(f'Way1 Shape: {way1.shape}')\n",
        "way2 = torch.cat(torch.unbind(embeddings, dim=1), dim=1)\n",
        "print(f'Way2 Shape: {way2.shape}')\n",
        "way3 = embeddings.reshape(embeddings.shape[0], -1)\n",
        "print(f'Way3 Shape: {way3.shape}')\n",
        "way4 = embeddings.view(embeddings.shape[0], -1)\n",
        "print(f'Way4 Shape: {way4.shape}')"
      ],
      "metadata": {
        "colab": {
          "base_uri": "https://localhost:8080/"
        },
        "id": "XsJ5jc8nQyLN",
        "outputId": "49033832-0080-4fbe-c784-38e806d53c34"
      },
      "execution_count": 10,
      "outputs": [
        {
          "output_type": "stream",
          "name": "stdout",
          "text": [
            "Way1 Shape: torch.Size([228146, 6])\n",
            "Way2 Shape: torch.Size([228146, 6])\n",
            "Way3 Shape: torch.Size([228146, 6])\n",
            "Way4 Shape: torch.Size([228146, 6])\n"
          ]
        }
      ]
    },
    {
      "cell_type": "code",
      "source": [
        "W1 = torch.randn(6, 100)\n",
        "b1 = torch.randn(100)"
      ],
      "metadata": {
        "id": "vZUbmO0vQWyw"
      },
      "execution_count": 11,
      "outputs": []
    },
    {
      "cell_type": "code",
      "source": [
        "h = torch.tanh(embeddings.view(embeddings.shape[0], -1) @ W1 + b1)\n",
        "h.shape"
      ],
      "metadata": {
        "colab": {
          "base_uri": "https://localhost:8080/"
        },
        "id": "cn94n9LkTAOc",
        "outputId": "0e5c414e-93f5-4adf-a24f-d00c53c106b7"
      },
      "execution_count": 12,
      "outputs": [
        {
          "output_type": "execute_result",
          "data": {
            "text/plain": [
              "torch.Size([228146, 100])"
            ]
          },
          "metadata": {},
          "execution_count": 12
        }
      ]
    },
    {
      "cell_type": "code",
      "source": [
        "W2 = torch.randn((100, 27))\n",
        "b2 = torch.randn(27)"
      ],
      "metadata": {
        "id": "g4rf1HSaTLCb"
      },
      "execution_count": 13,
      "outputs": []
    },
    {
      "cell_type": "code",
      "source": [
        "logits = h @ W2 + b2\n",
        "probs = torch.softmax(logits, dim=1)"
      ],
      "metadata": {
        "id": "ohP4OvdXTsnb"
      },
      "execution_count": 14,
      "outputs": []
    },
    {
      "cell_type": "code",
      "source": [
        "loss = -probs[torch.arange(len(Y)), Y].log().mean()\n",
        "loss"
      ],
      "metadata": {
        "colab": {
          "base_uri": "https://localhost:8080/"
        },
        "id": "94TNmJx0T3Pq",
        "outputId": "9683a5b7-e4ab-4aa4-8836-21d8c5386a4d"
      },
      "execution_count": 15,
      "outputs": [
        {
          "output_type": "execute_result",
          "data": {
            "text/plain": [
              "tensor(12.8391)"
            ]
          },
          "metadata": {},
          "execution_count": 15
        }
      ]
    },
    {
      "cell_type": "code",
      "source": [
        "loss = torch.nn.functional.cross_entropy(logits, Y)\n",
        "loss"
      ],
      "metadata": {
        "colab": {
          "base_uri": "https://localhost:8080/"
        },
        "id": "dAx4hp8Aiq4h",
        "outputId": "f06149ca-4eba-4714-851f-ee3d02a2353f"
      },
      "execution_count": 16,
      "outputs": [
        {
          "output_type": "execute_result",
          "data": {
            "text/plain": [
              "tensor(12.8391)"
            ]
          },
          "metadata": {},
          "execution_count": 16
        }
      ]
    },
    {
      "cell_type": "markdown",
      "source": [
        "Cleaner Version and Overfitting a single batch"
      ],
      "metadata": {
        "id": "ykPr9pNZjqUP"
      }
    },
    {
      "cell_type": "code",
      "source": [
        "context_len = 3\n",
        "\n",
        "X, Y = [], []\n",
        "\n",
        "for w in words[:5]:\n",
        "  context = [0] * context_len\n",
        "  for ch in w + '.':\n",
        "    X.append(context)\n",
        "    Y.append(stoi[ch])\n",
        "    context = context[1:] + [stoi[ch]]\n",
        "\n",
        "X = torch.tensor(X)\n",
        "Y = torch.tensor(Y)\n",
        "\n",
        "print(f'X Shape: {X.shape}')\n",
        "print(f'X data type: {X.dtype}')\n",
        "print(f'Y Shape: {Y.shape}')\n",
        "print(f'Y data type: {Y.dtype}')"
      ],
      "metadata": {
        "colab": {
          "base_uri": "https://localhost:8080/"
        },
        "id": "9vCR9sp1ljNQ",
        "outputId": "1527c785-d758-4de8-9d7b-d26e28a91056"
      },
      "execution_count": 32,
      "outputs": [
        {
          "output_type": "stream",
          "name": "stdout",
          "text": [
            "X Shape: torch.Size([32, 3])\n",
            "X data type: torch.int64\n",
            "Y Shape: torch.Size([32])\n",
            "Y data type: torch.int64\n"
          ]
        }
      ]
    },
    {
      "cell_type": "code",
      "source": [
        "g = torch.Generator().manual_seed(2147483647)\n",
        "C = torch.randn((27, 2), generator=g)\n",
        "W1 = torch.randn((6, 100), generator=g)\n",
        "W2 = torch.randn((100, 27), generator=g)\n",
        "b1 = torch.randn(100, generator=g)\n",
        "b2 = torch.randn(27, generator=g)\n",
        "parameters = [C, W1, W2, b1, b2]\n",
        "for p in parameters:\n",
        "  p.requires_grad = True"
      ],
      "metadata": {
        "id": "JdkVP9g6i7lG"
      },
      "execution_count": 33,
      "outputs": []
    },
    {
      "cell_type": "code",
      "source": [
        "sum(p.nelement() for p in parameters)"
      ],
      "metadata": {
        "colab": {
          "base_uri": "https://localhost:8080/"
        },
        "id": "tHUlzRZskGFG",
        "outputId": "64f09217-ed75-4a49-e99e-d45abfb794d5"
      },
      "execution_count": 34,
      "outputs": [
        {
          "output_type": "execute_result",
          "data": {
            "text/plain": [
              "3481"
            ]
          },
          "metadata": {},
          "execution_count": 34
        }
      ]
    },
    {
      "cell_type": "code",
      "source": [
        "for i in range(100):\n",
        "  #forward pass\n",
        "  embeddings = C[X]\n",
        "  h = torch.tanh(embeddings.view(embeddings.shape[0], -1) @ W1 + b1)\n",
        "  logits = h @ W2 + b2\n",
        "  loss = torch.nn.functional.cross_entropy(logits, Y)\n",
        "\n",
        "  #backward pass\n",
        "  for p in parameters:\n",
        "    p.grad = None\n",
        "  loss.backward()\n",
        "  for p in parameters:\n",
        "    p.data -= 0.1 * p.grad\n",
        "\n",
        "  if (i+1) % 10 == 0:\n",
        "    print(f'Epoch: {i+1}, Loss: {loss.item()}')"
      ],
      "metadata": {
        "colab": {
          "base_uri": "https://localhost:8080/"
        },
        "id": "XP13NWuvkKvn",
        "outputId": "a8a26fc0-cb26-43da-dbb6-7aa2b359fe3a"
      },
      "execution_count": 35,
      "outputs": [
        {
          "output_type": "stream",
          "name": "stdout",
          "text": [
            "Epoch: 10, Loss: 5.177156925201416\n",
            "Epoch: 20, Loss: 2.4692466259002686\n",
            "Epoch: 30, Loss: 1.4052338600158691\n",
            "Epoch: 40, Loss: 0.926850438117981\n",
            "Epoch: 50, Loss: 0.6242833733558655\n",
            "Epoch: 60, Loss: 0.42911842465400696\n",
            "Epoch: 70, Loss: 0.3745386004447937\n",
            "Epoch: 80, Loss: 0.3446305990219116\n",
            "Epoch: 90, Loss: 0.32527709007263184\n",
            "Epoch: 100, Loss: 0.31197431683540344\n"
          ]
        }
      ]
    },
    {
      "cell_type": "code",
      "source": [
        "predictions = torch.max(logits, 1)\n",
        "predictions"
      ],
      "metadata": {
        "colab": {
          "base_uri": "https://localhost:8080/"
        },
        "id": "t5tKTSFJkzf9",
        "outputId": "3c284bbe-3d63-4a03-8e45-cf2a0bf5e161"
      },
      "execution_count": 37,
      "outputs": [
        {
          "output_type": "execute_result",
          "data": {
            "text/plain": [
              "torch.return_types.max(\n",
              "values=tensor([ 8.1731, 12.4352, 13.5064, 16.6895,  9.5250,  8.1731,  9.6540, 13.2942,\n",
              "        14.3192, 14.3377, 12.2392, 12.3706,  8.1731,  9.7084, 10.2427,  9.7360,\n",
              "         8.1731,  9.6486, 10.3808, 10.0958, 12.3948, 11.7369, 14.9610, 18.7677,\n",
              "        11.9951,  8.1731,  8.4217, 12.4650, 14.5567, 16.4265, 16.4211,  9.9523],\n",
              "       grad_fn=<MaxBackward0>),\n",
              "indices=tensor([ 1, 13, 13,  1,  0,  1, 12,  9, 22,  9,  1,  0,  1, 22,  1,  0,  1, 19,\n",
              "         1,  2,  5, 12, 12,  1,  0,  1, 15, 16,  8,  9,  1,  0]))"
            ]
          },
          "metadata": {},
          "execution_count": 37
        }
      ]
    },
    {
      "cell_type": "code",
      "source": [
        "Y"
      ],
      "metadata": {
        "colab": {
          "base_uri": "https://localhost:8080/"
        },
        "id": "6qjW0vA3mAPl",
        "outputId": "2ab81dbc-e798-4b56-f97b-a9a8c3297a5f"
      },
      "execution_count": 38,
      "outputs": [
        {
          "output_type": "execute_result",
          "data": {
            "text/plain": [
              "tensor([ 5, 13, 13,  1,  0, 15, 12,  9, 22,  9,  1,  0,  1, 22,  1,  0,  9, 19,\n",
              "         1,  2,  5, 12, 12,  1,  0, 19, 15, 16,  8,  9,  1,  0])"
            ]
          },
          "metadata": {},
          "execution_count": 38
        }
      ]
    },
    {
      "cell_type": "markdown",
      "source": [
        "Training a Full Dataset"
      ],
      "metadata": {
        "id": "ECOv_St5maIM"
      }
    },
    {
      "cell_type": "code",
      "source": [
        "context_len = 3\n",
        "\n",
        "X, Y = [], []\n",
        "\n",
        "for w in words:\n",
        "  context = [0] * context_len\n",
        "  for ch in w + '.':\n",
        "    X.append(context)\n",
        "    Y.append(stoi[ch])\n",
        "    context = context[1:] + [stoi[ch]]\n",
        "\n",
        "X = torch.tensor(X)\n",
        "Y = torch.tensor(Y)\n",
        "\n",
        "print(f'X Shape: {X.shape}')\n",
        "print(f'X data type: {X.dtype}')\n",
        "print(f'Y Shape: {Y.shape}')\n",
        "print(f'Y data type: {Y.dtype}')"
      ],
      "metadata": {
        "colab": {
          "base_uri": "https://localhost:8080/"
        },
        "id": "SNwtNtiqmIqc",
        "outputId": "957ff3dc-7338-4743-8e6a-c4c5d4331537"
      },
      "execution_count": 43,
      "outputs": [
        {
          "output_type": "stream",
          "name": "stdout",
          "text": [
            "X Shape: torch.Size([228146, 3])\n",
            "X data type: torch.int64\n",
            "Y Shape: torch.Size([228146])\n",
            "Y data type: torch.int64\n"
          ]
        }
      ]
    },
    {
      "cell_type": "code",
      "source": [
        "g = torch.Generator().manual_seed(2147483647)\n",
        "C = torch.randn((27, 2), generator=g)\n",
        "W1 = torch.randn((6, 100), generator=g)\n",
        "W2 = torch.randn((100, 27), generator=g)\n",
        "b1 = torch.randn(100, generator=g)\n",
        "b2 = torch.randn(27, generator=g)\n",
        "parameters = [C, W1, W2, b1, b2]\n",
        "for p in parameters:\n",
        "  p.requires_grad = True"
      ],
      "metadata": {
        "id": "_ttmJ-1OmeQ_"
      },
      "execution_count": 61,
      "outputs": []
    },
    {
      "cell_type": "code",
      "source": [
        "sum(p.nelement() for p in parameters)"
      ],
      "metadata": {
        "colab": {
          "base_uri": "https://localhost:8080/"
        },
        "id": "FiYuZbFMmh-X",
        "outputId": "b1f64dff-26f7-4afd-824d-a9d1568ba8e2"
      },
      "execution_count": 45,
      "outputs": [
        {
          "output_type": "execute_result",
          "data": {
            "text/plain": [
              "3481"
            ]
          },
          "metadata": {},
          "execution_count": 45
        }
      ]
    },
    {
      "cell_type": "code",
      "source": [
        "for i in range(100):\n",
        "  #forward pass\n",
        "  embeddings = C[X]\n",
        "  h = torch.tanh(embeddings.view(embeddings.shape[0], -1) @ W1 + b1)\n",
        "  logits = h @ W2 + b2\n",
        "  loss = torch.nn.functional.cross_entropy(logits, Y)\n",
        "\n",
        "  #backward pass\n",
        "  for p in parameters:\n",
        "    p.grad = None\n",
        "  loss.backward()\n",
        "  for p in parameters:\n",
        "    p.data -= 0.1 * p.grad\n",
        "\n",
        "  if (i+1) % 10 == 0:\n",
        "    print(f'Epoch: {i+1}, Loss: {loss.item()}')"
      ],
      "metadata": {
        "colab": {
          "base_uri": "https://localhost:8080/"
        },
        "id": "LnUdXR50mj9X",
        "outputId": "99fc92c9-8bc0-44c9-98fb-58d0c6ab12c2"
      },
      "execution_count": 46,
      "outputs": [
        {
          "output_type": "stream",
          "name": "stdout",
          "text": [
            "Epoch: 10, Loss: 10.608251571655273\n",
            "Epoch: 20, Loss: 7.5472283363342285\n",
            "Epoch: 30, Loss: 6.001595973968506\n",
            "Epoch: 40, Loss: 5.262874603271484\n",
            "Epoch: 50, Loss: 4.8341898918151855\n",
            "Epoch: 60, Loss: 4.532835006713867\n",
            "Epoch: 70, Loss: 4.299739360809326\n",
            "Epoch: 80, Loss: 4.110147953033447\n",
            "Epoch: 90, Loss: 3.952338457107544\n",
            "Epoch: 100, Loss: 3.817997932434082\n"
          ]
        }
      ]
    },
    {
      "cell_type": "markdown",
      "source": [
        "Creating Mini Batches"
      ],
      "metadata": {
        "id": "V6G42oF7m6Kj"
      }
    },
    {
      "cell_type": "code",
      "source": [
        "for i in range(100):\n",
        "  #forward pass\n",
        "  ix = torch.randint(0, X.shape[0], (32, ))\n",
        "\n",
        "  embeddings = C[X[ix]]\n",
        "  h = torch.tanh(embeddings.view(embeddings.shape[0], -1) @ W1 + b1)\n",
        "  logits = h @ W2 + b2\n",
        "  loss = torch.nn.functional.cross_entropy(logits, Y[ix])\n",
        "\n",
        "  #backward pass\n",
        "  for p in parameters:\n",
        "    p.grad = None\n",
        "  loss.backward()\n",
        "  for p in parameters:\n",
        "    p.data -= 0.1 * p.grad\n",
        "\n",
        "  if (i+1) % 10 == 0:\n",
        "    print(f'Epoch: {i+1}, Loss: {loss.item()}')"
      ],
      "metadata": {
        "colab": {
          "base_uri": "https://localhost:8080/"
        },
        "id": "hsv84-PDmlUW",
        "outputId": "32c0ae95-edc8-44fd-a35d-02cefeb25568"
      },
      "execution_count": 60,
      "outputs": [
        {
          "output_type": "stream",
          "name": "stdout",
          "text": [
            "Epoch: 10, Loss: 2.6255359649658203\n",
            "Epoch: 20, Loss: 2.6385223865509033\n",
            "Epoch: 30, Loss: 2.8649470806121826\n",
            "Epoch: 40, Loss: 2.669961452484131\n",
            "Epoch: 50, Loss: 2.4482388496398926\n",
            "Epoch: 60, Loss: 2.8189070224761963\n",
            "Epoch: 70, Loss: 3.110624074935913\n",
            "Epoch: 80, Loss: 2.2957260608673096\n",
            "Epoch: 90, Loss: 2.784839630126953\n",
            "Epoch: 100, Loss: 3.0905237197875977\n"
          ]
        }
      ]
    },
    {
      "cell_type": "markdown",
      "source": [
        "Finding good learning rate"
      ],
      "metadata": {
        "id": "RFyaHq9MpELV"
      }
    },
    {
      "cell_type": "code",
      "source": [
        "g = torch.Generator().manual_seed(2147483647)\n",
        "C = torch.randn((27, 2), generator=g)\n",
        "W1 = torch.randn((6, 100), generator=g)\n",
        "W2 = torch.randn((100, 27), generator=g)\n",
        "b1 = torch.randn(100, generator=g)\n",
        "b2 = torch.randn(27, generator=g)\n",
        "parameters = [C, W1, W2, b1, b2]\n",
        "for p in parameters:\n",
        "  p.requires_grad = True"
      ],
      "metadata": {
        "id": "4W2sZsxwnCbU"
      },
      "execution_count": 68,
      "outputs": []
    },
    {
      "cell_type": "code",
      "source": [
        "lre = torch.linspace(-3, 0, 1000)\n",
        "lrs = 10**lre"
      ],
      "metadata": {
        "id": "h0IVPuxMpNFM"
      },
      "execution_count": 69,
      "outputs": []
    },
    {
      "cell_type": "code",
      "source": [
        "lri = []\n",
        "lossi = []\n",
        "\n",
        "for i in range(1000):\n",
        "  #forward pass\n",
        "  ix = torch.randint(0, X.shape[0], (32, ))\n",
        "\n",
        "  embeddings = C[X[ix]]\n",
        "  h = torch.tanh(embeddings.view(embeddings.shape[0], -1) @ W1 + b1)\n",
        "  logits = h @ W2 + b2\n",
        "  loss = torch.nn.functional.cross_entropy(logits, Y[ix])\n",
        "\n",
        "  #backward pass\n",
        "  for p in parameters:\n",
        "    p.grad = None\n",
        "  loss.backward()\n",
        "\n",
        "  lr = lrs[i]\n",
        "  for p in parameters:\n",
        "    p.data -= lr * p.grad\n",
        "  lri.append(lre[i])\n",
        "  lossi.append(loss.item())\n",
        "\n",
        "  # if (i+1) % 10 == 0:\n",
        "  #   print(f'Epoch: {i+1}, Loss: {loss.item()}')"
      ],
      "metadata": {
        "id": "9fSM3-tcpMAE"
      },
      "execution_count": 70,
      "outputs": []
    },
    {
      "cell_type": "code",
      "source": [
        "plt.plot(lri, lossi)"
      ],
      "metadata": {
        "colab": {
          "base_uri": "https://localhost:8080/",
          "height": 450
        },
        "id": "RG1MAOIlpfQe",
        "outputId": "dcfab4df-2823-45ea-9cf2-fbf6571a4fda"
      },
      "execution_count": 71,
      "outputs": [
        {
          "output_type": "execute_result",
          "data": {
            "text/plain": [
              "[<matplotlib.lines.Line2D at 0x7c8e34d0ac50>]"
            ]
          },
          "metadata": {},
          "execution_count": 71
        },
        {
          "output_type": "display_data",
          "data": {
            "text/plain": [
              "<Figure size 640x480 with 1 Axes>"
            ],
            "image/png": "[encoded data removed]"
          },
          "metadata": {}
        }
      ]
    },
    {
      "cell_type": "markdown",
      "source": [
        "Training the model"
      ],
      "metadata": {
        "id": "fhUEZXjApy5y"
      }
    },
    {
      "cell_type": "code",
      "source": [
        "g = torch.Generator().manual_seed(2147483647)\n",
        "C = torch.randn((27, 2), generator=g)\n",
        "W1 = torch.randn((6, 100), generator=g)\n",
        "W2 = torch.randn((100, 27), generator=g)\n",
        "b1 = torch.randn(100, generator=g)\n",
        "b2 = torch.randn(27, generator=g)\n",
        "parameters = [C, W1, W2, b1, b2]\n",
        "for p in parameters:\n",
        "  p.requires_grad = True"
      ],
      "metadata": {
        "id": "yo3k5uPUpwVB"
      },
      "execution_count": 74,
      "outputs": []
    },
    {
      "cell_type": "code",
      "source": [
        "#Initial Training with high learning rate\n",
        "for i in range(30000):\n",
        "  #forward pass\n",
        "  ix = torch.randint(0, X.shape[0], (32, ))\n",
        "\n",
        "  embeddings = C[X[ix]]\n",
        "  h = torch.tanh(embeddings.view(embeddings.shape[0], -1) @ W1 + b1)\n",
        "  logits = h @ W2 + b2\n",
        "  loss = torch.nn.functional.cross_entropy(logits, Y[ix])\n",
        "\n",
        "  #backward pass\n",
        "  for p in parameters:\n",
        "    p.grad = None\n",
        "  loss.backward()\n",
        "  for p in parameters:\n",
        "    p.data -= 0.1 * p.grad\n",
        "\n",
        "  if (i+1) % 3000 == 0:\n",
        "    print(f'Epoch: {i+1}, Loss: {loss.item()}')"
      ],
      "metadata": {
        "colab": {
          "base_uri": "https://localhost:8080/"
        },
        "id": "BVe7imDLpyWL",
        "outputId": "810bc3f1-a64f-4139-a5b8-6cd9a0b22bb9"
      },
      "execution_count": 75,
      "outputs": [
        {
          "output_type": "stream",
          "name": "stdout",
          "text": [
            "Epoch: 3000, Loss: 2.5809898376464844\n",
            "Epoch: 6000, Loss: 2.583012819290161\n",
            "Epoch: 9000, Loss: 2.4147322177886963\n",
            "Epoch: 12000, Loss: 2.3849403858184814\n",
            "Epoch: 15000, Loss: 2.249911069869995\n",
            "Epoch: 18000, Loss: 2.4481823444366455\n",
            "Epoch: 21000, Loss: 2.3643336296081543\n",
            "Epoch: 24000, Loss: 2.590453624725342\n",
            "Epoch: 27000, Loss: 2.1609609127044678\n",
            "Epoch: 30000, Loss: 2.4497485160827637\n"
          ]
        }
      ]
    },
    {
      "cell_type": "code",
      "source": [
        "#Fine Tuning with lower learning rate\n",
        "for i in range(30000):\n",
        "  #forward pass\n",
        "  ix = torch.randint(0, X.shape[0], (32, ))\n",
        "\n",
        "  embeddings = C[X[ix]]\n",
        "  h = torch.tanh(embeddings.view(embeddings.shape[0], -1) @ W1 + b1)\n",
        "  logits = h @ W2 + b2\n",
        "  loss = torch.nn.functional.cross_entropy(logits, Y[ix])\n",
        "\n",
        "  #backward pass\n",
        "  for p in parameters:\n",
        "    p.grad = None\n",
        "  loss.backward()\n",
        "  for p in parameters:\n",
        "    p.data -= 0.01 * p.grad\n",
        "\n",
        "  if (i+1) % 3000 == 0:\n",
        "    print(f'Epoch: {i+1}, Loss: {loss.item()}')"
      ],
      "metadata": {
        "colab": {
          "base_uri": "https://localhost:8080/"
        },
        "id": "pTJpMIGsp8th",
        "outputId": "77757d4a-a468-4980-aa0a-1ea6ef149fef"
      },
      "execution_count": 76,
      "outputs": [
        {
          "output_type": "stream",
          "name": "stdout",
          "text": [
            "Epoch: 3000, Loss: 2.174839735031128\n",
            "Epoch: 6000, Loss: 2.5167999267578125\n",
            "Epoch: 9000, Loss: 2.585805654525757\n",
            "Epoch: 12000, Loss: 2.1893372535705566\n",
            "Epoch: 15000, Loss: 1.8997230529785156\n",
            "Epoch: 18000, Loss: 2.0581696033477783\n",
            "Epoch: 21000, Loss: 2.225767135620117\n",
            "Epoch: 24000, Loss: 2.625554323196411\n",
            "Epoch: 27000, Loss: 2.216111898422241\n",
            "Epoch: 30000, Loss: 2.2382266521453857\n"
          ]
        }
      ]
    },
    {
      "cell_type": "code",
      "source": [
        "#Total Loss\n",
        "embeddings = C[X]\n",
        "h = torch.tanh(embeddings.view(embeddings.shape[0], -1) @ W1 + b1)\n",
        "logits = h @ W2 + b2\n",
        "loss = torch.nn.functional.cross_entropy(logits, Y)\n",
        "loss"
      ],
      "metadata": {
        "colab": {
          "base_uri": "https://localhost:8080/"
        },
        "id": "rcqNGPxMqOvZ",
        "outputId": "35608024-e2cb-44b9-eb15-9436941af69d"
      },
      "execution_count": 78,
      "outputs": [
        {
          "output_type": "execute_result",
          "data": {
            "text/plain": [
              "tensor(2.3168, grad_fn=<NllLossBackward0>)"
            ]
          },
          "metadata": {},
          "execution_count": 78
        }
      ]
    },
    {
      "cell_type": "markdown",
      "source": [
        "Splitting the data into Train, Validation and Test"
      ],
      "metadata": {
        "id": "VAr8I1-ZqnLW"
      }
    },
    {
      "cell_type": "code",
      "source": [
        "g = torch.Generator().manual_seed(2147483647)\n",
        "C = torch.randn((27, 2), generator=g)\n",
        "W1 = torch.randn((6, 100), generator=g)\n",
        "W2 = torch.randn((100, 27), generator=g)\n",
        "b1 = torch.randn(100, generator=g)\n",
        "b2 = torch.randn(27, generator=g)\n",
        "parameters = [C, W1, W2, b1, b2]\n",
        "for p in parameters:\n",
        "  p.requires_grad = True"
      ],
      "metadata": {
        "id": "QWWCFFOVtbqx"
      },
      "execution_count": 97,
      "outputs": []
    },
    {
      "cell_type": "code",
      "source": [
        "def build_dataset(words):\n",
        "  context_len = 3\n",
        "\n",
        "  X, Y = [], []\n",
        "\n",
        "  for w in words:\n",
        "    context = [0] * context_len\n",
        "    for ch in w + '.':\n",
        "      X.append(context)\n",
        "      Y.append(stoi[ch])\n",
        "\n",
        "      context = context[1:] + [stoi[ch]]\n",
        "\n",
        "  X = torch.tensor(X)\n",
        "  Y = torch.tensor(Y)\n",
        "\n",
        "  return X, Y"
      ],
      "metadata": {
        "id": "P4fytjBOrQgq"
      },
      "execution_count": 98,
      "outputs": []
    },
    {
      "cell_type": "code",
      "source": [
        "random.seed(42)\n",
        "random.shuffle(words)\n",
        "\n",
        "n1 = int(0.8 * len(words))\n",
        "n2 = int(0.9 * len(words))\n",
        "\n",
        "X_train, Y_train = build_dataset(words[:n1])\n",
        "X_val, Y_val = build_dataset(words[n1:n2])\n",
        "X_test, Y_test = build_dataset(words[n2:])"
      ],
      "metadata": {
        "id": "eImvHLFzqiXP"
      },
      "execution_count": 99,
      "outputs": []
    },
    {
      "cell_type": "code",
      "source": [
        "#Initial Training with high learning rate\n",
        "for i in range(30000):\n",
        "  #forward pass\n",
        "  ix = torch.randint(0, X_train.shape[0], (32, ))\n",
        "\n",
        "  embeddings = C[X_train[ix]]\n",
        "  h = torch.tanh(embeddings.view(embeddings.shape[0], -1) @ W1 + b1)\n",
        "  logits = h @ W2 + b2\n",
        "  loss = torch.nn.functional.cross_entropy(logits, Y_train[ix])\n",
        "\n",
        "  #backward pass\n",
        "  for p in parameters:\n",
        "    p.grad = None\n",
        "  loss.backward()\n",
        "  for p in parameters:\n",
        "    p.data -= 0.1 * p.grad\n",
        "\n",
        "  if (i+1) % 3000 == 0:\n",
        "    print(f'Epoch: {i+1}, Loss: {loss.item()}')"
      ],
      "metadata": {
        "colab": {
          "base_uri": "https://localhost:8080/"
        },
        "id": "uXX3ZgSprKyo",
        "outputId": "42065ed8-0376-48db-b3a5-598803741fbf"
      },
      "execution_count": 100,
      "outputs": [
        {
          "output_type": "stream",
          "name": "stdout",
          "text": [
            "Epoch: 3000, Loss: 2.537693500518799\n",
            "Epoch: 6000, Loss: 2.4881107807159424\n",
            "Epoch: 9000, Loss: 2.3095428943634033\n",
            "Epoch: 12000, Loss: 2.640951633453369\n",
            "Epoch: 15000, Loss: 2.8165791034698486\n",
            "Epoch: 18000, Loss: 1.9710931777954102\n",
            "Epoch: 21000, Loss: 2.4275906085968018\n",
            "Epoch: 24000, Loss: 2.2288527488708496\n",
            "Epoch: 27000, Loss: 2.4204087257385254\n",
            "Epoch: 30000, Loss: 2.282737970352173\n"
          ]
        }
      ]
    },
    {
      "cell_type": "code",
      "source": [
        "#Fine Tuning with lower learning rate\n",
        "for i in range(30000):\n",
        "  #forward pass\n",
        "  ix = torch.randint(0, X_train.shape[0], (32, ))\n",
        "\n",
        "  embeddings = C[X_train[ix]]\n",
        "  h = torch.tanh(embeddings.view(embeddings.shape[0], -1) @ W1 + b1)\n",
        "  logits = h @ W2 + b2\n",
        "  loss = torch.nn.functional.cross_entropy(logits, Y_train[ix])\n",
        "\n",
        "  #backward pass\n",
        "  for p in parameters:\n",
        "    p.grad = None\n",
        "  loss.backward()\n",
        "  for p in parameters:\n",
        "    p.data -= 0.01 * p.grad\n",
        "\n",
        "  if (i+1) % 3000 == 0:\n",
        "    print(f'Epoch: {i+1}, Loss: {loss.item()}')"
      ],
      "metadata": {
        "colab": {
          "base_uri": "https://localhost:8080/"
        },
        "id": "mwGUFMuHszt8",
        "outputId": "af1060ef-dfe6-4326-e624-4c0bab401479"
      },
      "execution_count": 101,
      "outputs": [
        {
          "output_type": "stream",
          "name": "stdout",
          "text": [
            "Epoch: 3000, Loss: 2.2581732273101807\n",
            "Epoch: 6000, Loss: 2.2008581161499023\n",
            "Epoch: 9000, Loss: 2.5060501098632812\n",
            "Epoch: 12000, Loss: 2.2483832836151123\n",
            "Epoch: 15000, Loss: 2.37150502204895\n",
            "Epoch: 18000, Loss: 1.9185672998428345\n",
            "Epoch: 21000, Loss: 2.4129936695098877\n",
            "Epoch: 24000, Loss: 2.1414387226104736\n",
            "Epoch: 27000, Loss: 2.2935128211975098\n",
            "Epoch: 30000, Loss: 2.1851015090942383\n"
          ]
        }
      ]
    },
    {
      "cell_type": "code",
      "source": [
        "#Loss on entire train set\n",
        "#Loss on val set\n",
        "embeddings = C[X_train]\n",
        "h = torch.tanh(embeddings.view(embeddings.shape[0], -1) @ W1 + b1)\n",
        "logits = h @ W2 + b2\n",
        "loss = torch.nn.functional.cross_entropy(logits, Y_train)\n",
        "print(f'Validataion Loss: {loss.item()}')"
      ],
      "metadata": {
        "colab": {
          "base_uri": "https://localhost:8080/"
        },
        "id": "bA_rLE_ouAq9",
        "outputId": "2110a01c-43ea-41c5-86e1-1e87f3fdb984"
      },
      "execution_count": 103,
      "outputs": [
        {
          "output_type": "stream",
          "name": "stdout",
          "text": [
            "Validataion Loss: 2.3261797428131104\n"
          ]
        }
      ]
    },
    {
      "cell_type": "code",
      "source": [
        "#Loss on val set\n",
        "embeddings = C[X_val]\n",
        "h = torch.tanh(embeddings.view(embeddings.shape[0], -1) @ W1 + b1)\n",
        "logits = h @ W2 + b2\n",
        "loss = torch.nn.functional.cross_entropy(logits, Y_val)\n",
        "print(f'Validataion Loss: {loss.item()}')\n",
        "\n",
        "# Model is under-fitting as training and validataion loss are almost equal"
      ],
      "metadata": {
        "colab": {
          "base_uri": "https://localhost:8080/"
        },
        "id": "mQ5nDCP5s0l2",
        "outputId": "1632d7cd-20ac-4117-937e-b58fc09152c5"
      },
      "execution_count": 105,
      "outputs": [
        {
          "output_type": "stream",
          "name": "stdout",
          "text": [
            "Validataion Loss: 2.322852849960327\n"
          ]
        }
      ]
    },
    {
      "cell_type": "markdown",
      "source": [
        "Visualising the embeddings"
      ],
      "metadata": {
        "id": "1ZQj_Eenvjd6"
      }
    },
    {
      "cell_type": "code",
      "source": [
        "plt.figure(figsize=(8, 8))\n",
        "plt.scatter(C[:, 0].data, C[:, 1].data, s=200)\n",
        "for i in range(C.shape[0]):\n",
        "  plt.text(C[i, 0].item(), C[i, 1].item(), itos[i], ha=\"center\", va=\"center\", color='white')\n",
        "plt.grid('minor')"
      ],
      "metadata": {
        "colab": {
          "base_uri": "https://localhost:8080/",
          "height": 676
        },
        "id": "tuXTxX3ttIO-",
        "outputId": "e34d6fa6-b3e3-4c8a-d139-66a80ba646b0"
      },
      "execution_count": 107,
      "outputs": [
        {
          "output_type": "display_data",
          "data": {
            "text/plain": [
              "<Figure size 800x800 with 1 Axes>"
            ],
            "image/png": "[encoded data removed]"
          },
          "metadata": {}
        }
      ]
    },
    {
      "cell_type": "markdown",
      "source": [
        "Sampling from Model"
      ],
      "metadata": {
        "id": "J1tY4-XNwvZG"
      }
    },
    {
      "cell_type": "code",
      "source": [
        "names = []\n",
        "\n",
        "for _ in range(10):\n",
        "  context = [0] * context_len\n",
        "  name = ''\n",
        "  while True:\n",
        "    embeddings = C[torch.tensor([context])]\n",
        "    h = torch.tanh(embeddings.view(embeddings.shape[0], -1) @ W1 + b1)\n",
        "    logits = h @ W2 + b2\n",
        "    probs = torch.nn.functional.softmax(logits, dim=1)\n",
        "    ix = torch.multinomial(probs, num_samples=1, replacement=True).item()\n",
        "    if ix == 0:\n",
        "      break\n",
        "    context = context[1:] + [ix]\n",
        "    name += itos[ix]\n",
        "  names.append(name)\n",
        "\n",
        "names"
      ],
      "metadata": {
        "colab": {
          "base_uri": "https://localhost:8080/"
        },
        "id": "h-1omEOJwqXh",
        "outputId": "5ee601e2-7d09-45c9-8c6f-bdeabcd5228f"
      },
      "execution_count": 114,
      "outputs": [
        {
          "output_type": "execute_result",
          "data": {
            "text/plain": [
              "['kan',\n",
              " 'ken',\n",
              " 'avantahn',\n",
              " 'gisteaesan',\n",
              " 'pelenseleoden',\n",
              " 'eilyn',\n",
              " 'ron',\n",
              " 'lyy',\n",
              " 'ryah',\n",
              " 'len']"
            ]
          },
          "metadata": {},
          "execution_count": 114
        }
      ]
    },
    {
      "cell_type": "code",
      "source": [],
      "metadata": {
        "id": "ULNdWmHrw6S5"
      },
      "execution_count": null,
      "outputs": []
    }
  ]
}