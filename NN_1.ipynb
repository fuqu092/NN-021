{
  "nbformat": 4,
  "nbformat_minor": 0,
  "metadata": {
    "colab": {
      "provenance": []
    },
    "kernelspec": {
      "name": "python3",
      "display_name": "Python 3"
    },
    "language_info": {
      "name": "python"
    }
  },
  "cells": [
    {
      "cell_type": "code",
      "source": [
        "import numpy as np"
      ],
      "metadata": {
        "id": "30Eof7a5EovG"
      },
      "execution_count": 1,
      "outputs": []
    },
    {
      "cell_type": "code",
      "source": [
        "class Value:\n",
        "\n",
        "  def __init__(self, data, child = (), op = '', label = ''):\n",
        "    self.data = data;\n",
        "    self.grad = 0.0\n",
        "    self._prev = set(child)\n",
        "    self._backward = lambda : None\n",
        "    self._op = op\n",
        "    self.label = label\n",
        "\n",
        "  def __repr__(self):\n",
        "    return f\"Value(data={self.data}, grad={self.grad})\"\n",
        "\n",
        "  def __add__(self, other):\n",
        "    other = other if isinstance(other, Value) else Value(other)\n",
        "    out = Value(self.data + other.data, (self, other), '+')\n",
        "\n",
        "    def _backward():\n",
        "      self.grad += 1.0 * out.grad\n",
        "      other.grad += 1.0 * out.grad\n",
        "\n",
        "    out._backward = _backward\n",
        "    return out\n",
        "\n",
        "  def __neg__(self):\n",
        "    out = Value(-self.data, (self, ), '-')\n",
        "\n",
        "    def _backward():\n",
        "      self.grad += -1.0 * out.grad\n",
        "\n",
        "    out._backward = _backward\n",
        "    return out\n",
        "\n",
        "  def __sub__(self, other):\n",
        "    other = other if isinstance(other, Value) else Value(other)\n",
        "    out = Value(self.data - other.data, (self, other), '-')\n",
        "\n",
        "    def _backward():\n",
        "      self.grad += 1.0 * out.grad\n",
        "      other.grad += -1.0 * out.grad\n",
        "\n",
        "    out._backward = _backward\n",
        "    return out\n",
        "\n",
        "  def __mul__(self, other):\n",
        "    other = other if isinstance(other, Value) else Value(other)\n",
        "    out = Value(self.data * other.data, (self, other), '*')\n",
        "\n",
        "    def _backward():\n",
        "      self.grad += other.data * out.grad\n",
        "      other.grad += self.data * out.grad\n",
        "\n",
        "    out._backward = _backward\n",
        "    return out\n",
        "\n",
        "  def __rmul__(self, other):\n",
        "    return self * other\n",
        "\n",
        "  def exp(self):\n",
        "    out = Value(np.exp(self.data), (self,), 'exp')\n",
        "\n",
        "    def _backward():\n",
        "      self.grad += out.data * out.grad\n",
        "\n",
        "    out._backward = _backward\n",
        "    return out\n",
        "\n",
        "  def __pow__(self, other):\n",
        "    assert isinstance(other, (int, float)), \"only supporting int and float for now\"\n",
        "    out = Value(self.data**other, (self,), '**')\n",
        "\n",
        "    def _backward():\n",
        "      self.grad += other * (self.data**(other - 1)) * out.grad\n",
        "\n",
        "    out._backward = _backward\n",
        "    return out\n",
        "\n",
        "  def __truediv__(self, other):\n",
        "    other = other if isinstance(other, Value) else Value(other)\n",
        "    out = Value(self.data / other.data, (self, other), '\\\\')\n",
        "\n",
        "    def _backward():\n",
        "      self.grad += 1.0 / other.data * out.grad\n",
        "      other.grad += (-self.data / other.data**2) * out.grad\n",
        "\n",
        "    out._backward = _backward\n",
        "    return out\n",
        "\n",
        "  def tanh(self):\n",
        "    out = Value(np.tanh(self.data), (self, ), 'tanh')\n",
        "\n",
        "    def _backward():\n",
        "      self.grad += (1 - out.data**2) * out.grad\n",
        "\n",
        "    out._backward = _backward\n",
        "    return out\n",
        "\n",
        "  def backward(self):\n",
        "    topo = []\n",
        "    visited = set()\n",
        "\n",
        "    def topo_sort(v):\n",
        "      if v not in visited:\n",
        "        visited.add(v)\n",
        "        for node in v._prev:\n",
        "          topo_sort(node)\n",
        "        topo.append(v)\n",
        "    topo_sort(self)\n",
        "\n",
        "    self.grad = 1.0\n",
        "    for node in reversed(topo):\n",
        "      node._backward()"
      ],
      "metadata": {
        "id": "NJ56h3etD1r3"
      },
      "execution_count": 104,
      "outputs": []
    },
    {
      "cell_type": "code",
      "source": [
        "class Neuron:\n",
        "\n",
        "  def __init__(self, nin):\n",
        "    self.w = [Value(np.random.uniform(-1, 1)) for _ in range(nin)]\n",
        "    self.b = Value(np.random.uniform(-1, 1))\n",
        "\n",
        "  def __call__(self, x):\n",
        "    act = sum((wi * xi for wi, xi in zip(self.w, x)), self.b)\n",
        "    out = act.tanh()\n",
        "\n",
        "    return out\n",
        "\n",
        "  def parameters(self):\n",
        "    return self.w + [self.b]\n",
        "\n",
        "class Layer:\n",
        "\n",
        "  def __init__(self, nin, nout):\n",
        "    self.neurons = [Neuron(nin) for _ in range(nout)]\n",
        "\n",
        "  def __call__(self, x):\n",
        "    out = [n(x) for n in self.neurons]\n",
        "    return out\n",
        "\n",
        "  def parameters(self):\n",
        "    return [p for neuron in self.neurons for p in neuron.parameters()]\n",
        "\n",
        "class MLP:\n",
        "\n",
        "  def __init__(self, nin, nouts):\n",
        "    sz = [nin] + nouts\n",
        "    self.layers = [Layer(sz[i], sz[i+1]) for i in range(len(nouts))]\n",
        "\n",
        "  def __call__(self, x):\n",
        "    for layer in self.layers:\n",
        "      x = layer(x)\n",
        "\n",
        "    return x\n",
        "\n",
        "  def parameters(self):\n",
        "    return [p for layer in self.layers for p in layer.parameters()]"
      ],
      "metadata": {
        "id": "GGK5w254wbmf"
      },
      "execution_count": 96,
      "outputs": []
    },
    {
      "cell_type": "code",
      "source": [
        "from graphviz import Digraph\n",
        "\n",
        "def trace(root):\n",
        "  # builds a set of all nodes and edges in a graph\n",
        "  nodes, edges = set(), set()\n",
        "  def build(v):\n",
        "    if v not in nodes:\n",
        "      nodes.add(v)\n",
        "      for child in v._prev:\n",
        "        edges.add((child, v))\n",
        "        build(child)\n",
        "  build(root)\n",
        "  return nodes, edges\n",
        "\n",
        "def draw_dot(root):\n",
        "  dot = Digraph(format='svg', graph_attr={'rankdir': 'LR'}) # LR = left to right\n",
        "\n",
        "  nodes, edges = trace(root)\n",
        "  for n in nodes:\n",
        "    uid = str(id(n))\n",
        "    # for any value in the graph, create a rectangular ('record') node for it\n",
        "    dot.node(name = uid, label = \"{ %s | data %.4f | grad %.4f }\" % (n.label, n.data, n.grad), shape='record')\n",
        "    if n._op:\n",
        "      # if this value is a result of some operation, create an op node for it\n",
        "      dot.node(name = uid + n._op, label = n._op)\n",
        "      # and connect this node to it\n",
        "      dot.edge(uid + n._op, uid)\n",
        "\n",
        "  for n1, n2 in edges:\n",
        "    # connect n1 to the op node of n2\n",
        "    dot.edge(str(id(n1)), str(id(n2)) + n2._op)\n",
        "\n",
        "  return dot"
      ],
      "metadata": {
        "id": "UEOQ5__Q0GgL"
      },
      "execution_count": 112,
      "outputs": []
    },
    {
      "cell_type": "code",
      "source": [
        "xs = [[2.0, 3.0, -1.0],\n",
        "      [3.0, -1.0, 0.5],\n",
        "      [0.5, 1.0, 1.0],\n",
        "      [1.0, 1.0, -1.0]]\n",
        "\n",
        "ys = [1.0, -1.0, -1.0, 1.0]"
      ],
      "metadata": {
        "id": "XHsGVO5rm1Iq"
      },
      "execution_count": 113,
      "outputs": []
    },
    {
      "cell_type": "code",
      "source": [
        "net = MLP(3, [4, 2, 1])"
      ],
      "metadata": {
        "id": "zgFWPdq7nL0i"
      },
      "execution_count": 114,
      "outputs": []
    },
    {
      "cell_type": "code",
      "source": [
        "net.parameters()"
      ],
      "metadata": {
        "colab": {
          "base_uri": "https://localhost:8080/"
        },
        "id": "9_Pw_F8Vo-yH",
        "outputId": "cf2c6f7d-a23b-47d3-9d1c-2302352b197f"
      },
      "execution_count": 115,
      "outputs": [
        {
          "output_type": "execute_result",
          "data": {
            "text/plain": [
              "[Value(data=-0.13139971411286933, grad=0.0),\n",
              " Value(data=0.05424011171946619, grad=0.0),\n",
              " Value(data=-0.5696004243179844, grad=0.0),\n",
              " Value(data=-0.19466857951255756, grad=0.0),\n",
              " Value(data=-0.9532550558458774, grad=0.0),\n",
              " Value(data=-0.9776484287934333, grad=0.0),\n",
              " Value(data=0.9372210877561071, grad=0.0),\n",
              " Value(data=0.26469118288173865, grad=0.0),\n",
              " Value(data=0.14302486303120943, grad=0.0),\n",
              " Value(data=0.9541608706059868, grad=0.0),\n",
              " Value(data=-0.6078885705201111, grad=0.0),\n",
              " Value(data=-0.0957573344669016, grad=0.0),\n",
              " Value(data=0.24458369840453997, grad=0.0),\n",
              " Value(data=-0.344744905843513, grad=0.0),\n",
              " Value(data=-0.8771621739618338, grad=0.0),\n",
              " Value(data=0.04560490330058542, grad=0.0),\n",
              " Value(data=-0.1570711076306086, grad=0.0),\n",
              " Value(data=-0.8089059693034171, grad=0.0),\n",
              " Value(data=-0.18337028615544892, grad=0.0),\n",
              " Value(data=-0.923781298521047, grad=0.0),\n",
              " Value(data=0.28534836955689147, grad=0.0),\n",
              " Value(data=-0.5768321138873902, grad=0.0),\n",
              " Value(data=-0.47376022767113213, grad=0.0),\n",
              " Value(data=-0.9764141701966753, grad=0.0),\n",
              " Value(data=-0.9097864175511781, grad=0.0),\n",
              " Value(data=0.3480950176630426, grad=0.0),\n",
              " Value(data=0.35610355756298007, grad=0.0),\n",
              " Value(data=0.49898579674268007, grad=0.0),\n",
              " Value(data=0.284328100787127, grad=0.0)]"
            ]
          },
          "metadata": {},
          "execution_count": 115
        }
      ]
    },
    {
      "cell_type": "code",
      "source": [
        "for epoch in range(20):\n",
        "  ypred = [net(x)[0] for x in xs]\n",
        "  loss = (ypred[0] - ys[0])**2 + (ypred[1] - ys[1])**2 + (ypred[2] - ys[2])**2 + (ypred[3] - ys[3])**2\n",
        "\n",
        "  for p in net.parameters():\n",
        "    p.grad = 0.0\n",
        "  loss.backward()\n",
        "\n",
        "  for p in net.parameters():\n",
        "    p.data += -0.1 * p.grad\n",
        "\n",
        "  print(f\"Epoch: {epoch}, Loss: {loss.data}\")"
      ],
      "metadata": {
        "colab": {
          "base_uri": "https://localhost:8080/"
        },
        "id": "ag05HJdtppi8",
        "outputId": "d9c8770b-36fd-4ac7-f55f-a7f71d8a4556"
      },
      "execution_count": 124,
      "outputs": [
        {
          "output_type": "stream",
          "name": "stdout",
          "text": [
            "Epoch: 0, Loss: 0.008121702351973877\n",
            "Epoch: 1, Loss: 0.00800834346131073\n",
            "Epoch: 2, Loss: 0.007897971319050234\n",
            "Epoch: 3, Loss: 0.007790470701869471\n",
            "Epoch: 4, Loss: 0.00768573220718296\n",
            "Epoch: 5, Loss: 0.007583651891357708\n",
            "Epoch: 6, Loss: 0.007484130934520397\n",
            "Epoch: 7, Loss: 0.00738707532970752\n",
            "Epoch: 8, Loss: 0.007292395594324092\n",
            "Epoch: 9, Loss: 0.007200006502068371\n",
            "Epoch: 10, Loss: 0.007109826833651378\n",
            "Epoch: 11, Loss: 0.007021779144794371\n",
            "Epoch: 12, Loss: 0.006935789550125168\n",
            "Epoch: 13, Loss: 0.006851787521718876\n",
            "Epoch: 14, Loss: 0.006769705701139947\n",
            "Epoch: 15, Loss: 0.006689479723943124\n",
            "Epoch: 16, Loss: 0.006611048055682365\n",
            "Epoch: 17, Loss: 0.006534351838557845\n",
            "Epoch: 18, Loss: 0.006459334747906083\n",
            "Epoch: 19, Loss: 0.006385942857805103\n"
          ]
        }
      ]
    },
    {
      "cell_type": "code",
      "source": [
        "ypred"
      ],
      "metadata": {
        "colab": {
          "base_uri": "https://localhost:8080/"
        },
        "id": "xmqh1JEn0KJm",
        "outputId": "3569f0ca-5871-4ee4-fc9d-b83024d02b74"
      },
      "execution_count": 125,
      "outputs": [
        {
          "output_type": "execute_result",
          "data": {
            "text/plain": [
              "[Value(data=0.963745996886953, grad=-0.0725080062260941),\n",
              " Value(data=-0.9711035864340304, grad=0.05779282713193923),\n",
              " Value(data=-0.9496983298680991, grad=0.1006033402638018),\n",
              " Value(data=0.9586922600345873, grad=-0.08261547993082541)]"
            ]
          },
          "metadata": {},
          "execution_count": 125
        }
      ]
    }
  ]
}