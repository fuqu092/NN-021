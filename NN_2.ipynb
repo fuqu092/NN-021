{
  "nbformat": 4,
  "nbformat_minor": 0,
  "metadata": {
    "colab": {
      "provenance": []
    },
    "kernelspec": {
      "name": "python3",
      "display_name": "Python 3"
    },
    "language_info": {
      "name": "python"
    }
  },
  "cells": [
    {
      "cell_type": "code",
      "source": [
        "import numpy as np\n",
        "import torch"
      ],
      "metadata": {
        "id": "T46eNILoQfs_"
      },
      "execution_count": 1,
      "outputs": []
    },
    {
      "cell_type": "code",
      "execution_count": 2,
      "metadata": {
        "id": "f5xrMrI887zG"
      },
      "outputs": [],
      "source": [
        "words = open(\"names.txt\", 'r').read().splitlines()"
      ]
    },
    {
      "cell_type": "code",
      "source": [
        "words[:10]"
      ],
      "metadata": {
        "colab": {
          "base_uri": "https://localhost:8080/"
        },
        "id": "MqzPFUdcPeTB",
        "outputId": "6072a440-e272-47c8-bf41-9ea5ac9100e1"
      },
      "execution_count": 3,
      "outputs": [
        {
          "output_type": "execute_result",
          "data": {
            "text/plain": [
              "['emma',\n",
              " 'olivia',\n",
              " 'ava',\n",
              " 'isabella',\n",
              " 'sophia',\n",
              " 'charlotte',\n",
              " 'mia',\n",
              " 'amelia',\n",
              " 'harper',\n",
              " 'evelyn']"
            ]
          },
          "metadata": {},
          "execution_count": 3
        }
      ]
    },
    {
      "cell_type": "code",
      "source": [
        "len(words)"
      ],
      "metadata": {
        "colab": {
          "base_uri": "https://localhost:8080/"
        },
        "id": "INhzJrFlPiH6",
        "outputId": "5bc996b5-c91d-4979-a99e-148b3e05962a"
      },
      "execution_count": 4,
      "outputs": [
        {
          "output_type": "execute_result",
          "data": {
            "text/plain": [
              "32033"
            ]
          },
          "metadata": {},
          "execution_count": 4
        }
      ]
    },
    {
      "cell_type": "code",
      "source": [
        "min(len(w) for w in words)"
      ],
      "metadata": {
        "colab": {
          "base_uri": "https://localhost:8080/"
        },
        "id": "PlzhoN5rPmhR",
        "outputId": "093142a2-68bb-4a5e-e86e-e58f9a3bc0f9"
      },
      "execution_count": 5,
      "outputs": [
        {
          "output_type": "execute_result",
          "data": {
            "text/plain": [
              "2"
            ]
          },
          "metadata": {},
          "execution_count": 5
        }
      ]
    },
    {
      "cell_type": "code",
      "source": [
        "max(len(w) for w in words)"
      ],
      "metadata": {
        "colab": {
          "base_uri": "https://localhost:8080/"
        },
        "id": "bO--_AyDPrgB",
        "outputId": "f457ebd1-ef61-4e5d-a83e-9392c3e5d38c"
      },
      "execution_count": 6,
      "outputs": [
        {
          "output_type": "execute_result",
          "data": {
            "text/plain": [
              "15"
            ]
          },
          "metadata": {},
          "execution_count": 6
        }
      ]
    },
    {
      "cell_type": "code",
      "source": [
        "word_len = [len(w) for w in words]"
      ],
      "metadata": {
        "id": "b8hN7nnBPtpZ"
      },
      "execution_count": 7,
      "outputs": []
    },
    {
      "cell_type": "code",
      "source": [
        "np.mean(word_len)"
      ],
      "metadata": {
        "colab": {
          "base_uri": "https://localhost:8080/"
        },
        "id": "pcNspfVUQegh",
        "outputId": "58a179f3-2d79-4ce5-cdcb-4a9b08cecc05"
      },
      "execution_count": 8,
      "outputs": [
        {
          "output_type": "execute_result",
          "data": {
            "text/plain": [
              "np.float64(6.122217712983486)"
            ]
          },
          "metadata": {},
          "execution_count": 8
        }
      ]
    },
    {
      "cell_type": "code",
      "source": [
        "np.median(word_len)"
      ],
      "metadata": {
        "colab": {
          "base_uri": "https://localhost:8080/"
        },
        "id": "sNXbf7efQ15b",
        "outputId": "d4f66e6b-be7b-4f4e-9dba-065c33a9c0a7"
      },
      "execution_count": 9,
      "outputs": [
        {
          "output_type": "execute_result",
          "data": {
            "text/plain": [
              "np.float64(6.0)"
            ]
          },
          "metadata": {},
          "execution_count": 9
        }
      ]
    },
    {
      "cell_type": "code",
      "source": [
        "chars = sorted(list(set(''.join(words))))\n",
        "chars = ['.'] + chars\n",
        "stoi = {s:i for i, s in enumerate(chars)}\n",
        "itos = {v:k for k, v in stoi.items()}\n",
        "bigram_cnt = torch.zeros((27, 27), dtype=torch.int)"
      ],
      "metadata": {
        "id": "MfkBgGI_RLly"
      },
      "execution_count": 10,
      "outputs": []
    },
    {
      "cell_type": "code",
      "source": [
        "bigram_prob = bigram_cnt.float()\n",
        "bigram_prob /= bigram_prob.sum(1, keepdims=True)"
      ],
      "metadata": {
        "id": "Kln0YzsbS6X_"
      },
      "execution_count": 11,
      "outputs": []
    },
    {
      "cell_type": "code",
      "source": [
        "for w in words:\n",
        "  chars = ['.'] + list(w) + ['.']\n",
        "  for ch1, ch2 in zip(chars, chars[1:]):\n",
        "    ix1 = stoi[ch1]\n",
        "    ix2 = stoi[ch2]\n",
        "    bigram_cnt[ix1, ix2] += 1"
      ],
      "metadata": {
        "id": "dN_WWXH6UnQj"
      },
      "execution_count": 12,
      "outputs": []
    },
    {
      "cell_type": "code",
      "source": [
        "bigram_prob =( bigram_cnt + 1).float() #Smoothening the model\n",
        "bigram_prob /= bigram_prob.sum(1, keepdims=True)"
      ],
      "metadata": {
        "id": "tl4ZWgbcTfcr"
      },
      "execution_count": 13,
      "outputs": []
    },
    {
      "cell_type": "code",
      "source": [
        "g = torch.Generator().manual_seed(2147483647)"
      ],
      "metadata": {
        "id": "dfS844ancT0u"
      },
      "execution_count": 14,
      "outputs": []
    },
    {
      "cell_type": "code",
      "source": [
        "names = []\n",
        "for i in range(10):\n",
        "  ix = 0\n",
        "  name = \"\"\n",
        "  while True:\n",
        "    p = bigram_prob[ix]\n",
        "    ix = torch.multinomial(p, 1, replacement=True, generator=g).item()\n",
        "    if ix == 0:\n",
        "      break\n",
        "    name += itos[ix]\n",
        "  names.append(name)"
      ],
      "metadata": {
        "id": "jbB8g4nWVa8V"
      },
      "execution_count": 15,
      "outputs": []
    },
    {
      "cell_type": "code",
      "source": [
        "names"
      ],
      "metadata": {
        "colab": {
          "base_uri": "https://localhost:8080/"
        },
        "id": "vFhHL9QBdmQ0",
        "outputId": "5d65a765-c683-45fc-e4b1-e20bcf5bac90"
      },
      "execution_count": 16,
      "outputs": [
        {
          "output_type": "execute_result",
          "data": {
            "text/plain": [
              "['junide',\n",
              " 'janasah',\n",
              " 'p',\n",
              " 'cony',\n",
              " 'a',\n",
              " 'nn',\n",
              " 'kohin',\n",
              " 'tolian',\n",
              " 'juee',\n",
              " 'ksahnaauranilevias']"
            ]
          },
          "metadata": {},
          "execution_count": 16
        }
      ]
    },
    {
      "cell_type": "code",
      "source": [
        "negative_log_likelihod = 0.0\n",
        "n = 0\n",
        "\n",
        "for w in words:\n",
        "  for ch1, ch2 in zip(w, w[1:]):\n",
        "    ix1 = stoi[ch1]\n",
        "    ix2 = stoi[ch2]\n",
        "    prob = bigram_prob[ix1, ix2]\n",
        "    negative_log_likelihod -= torch.log(prob)\n",
        "    n += 1\n",
        "\n",
        "print(negative_log_likelihod)\n",
        "print(negative_log_likelihod/n)"
      ],
      "metadata": {
        "id": "-zaHyWbNcwdw",
        "colab": {
          "base_uri": "https://localhost:8080/"
        },
        "outputId": "a8b85901-4141-4dd1-c427-9de90c3a48fa"
      },
      "execution_count": 86,
      "outputs": [
        {
          "output_type": "stream",
          "name": "stdout",
          "text": [
            "tensor(412482.3750)\n",
            "tensor(2.5139)\n"
          ]
        }
      ]
    },
    {
      "cell_type": "code",
      "source": [
        "negative_log_likelihod = 0.0\n",
        "n = 0\n",
        "\n",
        "for w in [\"andrejq\"]:\n",
        "  for ch1, ch2 in zip(w, w[1:]):\n",
        "    ix1 = stoi[ch1]\n",
        "    ix2 = stoi[ch2]\n",
        "    prob = bigram_prob[ix1, ix2]\n",
        "    print(f'{ch1}-->{ch2}: {prob}')\n",
        "    negative_log_likelihod -= torch.log(prob)\n",
        "    n += 1\n",
        "\n",
        "print(negative_log_likelihod)\n",
        "print(negative_log_likelihod/n)"
      ],
      "metadata": {
        "colab": {
          "base_uri": "https://localhost:8080/"
        },
        "id": "l9upv8xbV4I7",
        "outputId": "1001e022-a178-4127-9739-2370b7b900a0"
      },
      "execution_count": 18,
      "outputs": [
        {
          "output_type": "stream",
          "name": "stdout",
          "text": [
            "a-->n: 0.16038569808006287\n",
            "n-->d: 0.03841124475002289\n",
            "d-->r: 0.07695093005895615\n",
            "r-->e: 0.13341714441776276\n",
            "e-->j: 0.002738386392593384\n",
            "j-->q: 0.0003416467516217381\n",
            "tensor(23.5506)\n",
            "tensor(3.9251)\n"
          ]
        }
      ]
    },
    {
      "cell_type": "code",
      "source": [
        "xs, ys = [], []\n",
        "\n",
        "for w in words:\n",
        "  w = ['.'] + list(w) + ['.']\n",
        "  for ch1, ch2 in zip(w, w[1:]):\n",
        "    ix1 = stoi[ch1]\n",
        "    ix2 = stoi[ch2]\n",
        "    xs.append(ix1)\n",
        "    ys.append(ix2)\n",
        "\n",
        "xs = torch.tensor(xs)\n",
        "ys = torch.tensor(ys)"
      ],
      "metadata": {
        "id": "GbGojS_GWXUx"
      },
      "execution_count": 19,
      "outputs": []
    },
    {
      "cell_type": "code",
      "source": [
        "loss = -bigram_prob[xs, ys].log().mean()\n",
        "loss"
      ],
      "metadata": {
        "colab": {
          "base_uri": "https://localhost:8080/"
        },
        "id": "Elqp-ZIGyEU3",
        "outputId": "25dfffcb-1f53-4526-ffc8-a5a857278363"
      },
      "execution_count": 81,
      "outputs": [
        {
          "output_type": "execute_result",
          "data": {
            "text/plain": [
              "tensor(2.5143)"
            ]
          },
          "metadata": {},
          "execution_count": 81
        }
      ]
    },
    {
      "cell_type": "code",
      "source": [
        "xenc = torch.nn.functional.one_hot(xs, num_classes=-1)\n",
        "xenc = xenc.float()\n",
        "xenc.shape"
      ],
      "metadata": {
        "colab": {
          "base_uri": "https://localhost:8080/"
        },
        "id": "0Nt4uMt6YZcA",
        "outputId": "74f03b58-3613-4243-9523-6bbd4ac990ed"
      },
      "execution_count": 22,
      "outputs": [
        {
          "output_type": "execute_result",
          "data": {
            "text/plain": [
              "torch.Size([228146, 27])"
            ]
          },
          "metadata": {},
          "execution_count": 22
        }
      ]
    },
    {
      "cell_type": "code",
      "source": [
        "xenc.dtype"
      ],
      "metadata": {
        "id": "6O7AI6W4ZUkh",
        "colab": {
          "base_uri": "https://localhost:8080/"
        },
        "outputId": "4288ffda-f8ec-4f6a-b487-ae04ff865153"
      },
      "execution_count": 23,
      "outputs": [
        {
          "output_type": "execute_result",
          "data": {
            "text/plain": [
              "torch.float32"
            ]
          },
          "metadata": {},
          "execution_count": 23
        }
      ]
    },
    {
      "cell_type": "code",
      "source": [
        "W = torch.randn((27, 27))"
      ],
      "metadata": {
        "id": "huzxNWBisR3A"
      },
      "execution_count": 27,
      "outputs": []
    },
    {
      "cell_type": "code",
      "source": [
        "xenc @ W"
      ],
      "metadata": {
        "colab": {
          "base_uri": "https://localhost:8080/"
        },
        "id": "eytEFLohse4t",
        "outputId": "d939cf0c-4c38-43d6-a775-46f465ae75e8"
      },
      "execution_count": 28,
      "outputs": [
        {
          "output_type": "execute_result",
          "data": {
            "text/plain": [
              "tensor([[ 0.8736,  0.0416, -1.8841,  ..., -0.4928,  0.4273, -0.4178],\n",
              "        [-0.9713,  0.3998, -1.6725,  ...,  0.1839,  1.8576, -1.2454],\n",
              "        [-1.4348, -1.4738,  1.4196,  ..., -1.5410,  0.3662,  1.5975],\n",
              "        ...,\n",
              "        [-0.6122,  1.6455, -0.5917,  ..., -0.0190, -1.9781, -0.0859],\n",
              "        [-0.3509,  1.1042,  0.9445,  ...,  0.0254,  0.1715, -0.7139],\n",
              "        [ 0.3958,  1.9919,  1.0650,  ...,  0.2210,  0.0997, -1.1529]])"
            ]
          },
          "metadata": {},
          "execution_count": 28
        }
      ]
    },
    {
      "cell_type": "code",
      "source": [
        "logits = xenc @ W\n",
        "logits"
      ],
      "metadata": {
        "colab": {
          "base_uri": "https://localhost:8080/"
        },
        "id": "9PMs5KLzssm0",
        "outputId": "deeede79-e855-4574-a9ad-e640543b7d70"
      },
      "execution_count": 33,
      "outputs": [
        {
          "output_type": "execute_result",
          "data": {
            "text/plain": [
              "tensor([[ 0.8736,  0.0416, -1.8841,  ..., -0.4928,  0.4273, -0.4178],\n",
              "        [-0.9713,  0.3998, -1.6725,  ...,  0.1839,  1.8576, -1.2454],\n",
              "        [-1.4348, -1.4738,  1.4196,  ..., -1.5410,  0.3662,  1.5975],\n",
              "        ...,\n",
              "        [-0.6122,  1.6455, -0.5917,  ..., -0.0190, -1.9781, -0.0859],\n",
              "        [-0.3509,  1.1042,  0.9445,  ...,  0.0254,  0.1715, -0.7139],\n",
              "        [ 0.3958,  1.9919,  1.0650,  ...,  0.2210,  0.0997, -1.1529]])"
            ]
          },
          "metadata": {},
          "execution_count": 33
        }
      ]
    },
    {
      "cell_type": "code",
      "source": [
        "counts = logits.exp()\n",
        "counts"
      ],
      "metadata": {
        "colab": {
          "base_uri": "https://localhost:8080/"
        },
        "id": "9yz03Q8Itre1",
        "outputId": "5c7e3662-c913-4ee4-b4df-0810e92cf329"
      },
      "execution_count": 36,
      "outputs": [
        {
          "output_type": "execute_result",
          "data": {
            "text/plain": [
              "tensor([[2.3955, 1.0425, 0.1520,  ..., 0.6109, 1.5331, 0.6585],\n",
              "        [0.3786, 1.4916, 0.1878,  ..., 1.2019, 6.4081, 0.2878],\n",
              "        [0.2382, 0.2291, 4.1356,  ..., 0.2142, 1.4422, 4.9406],\n",
              "        ...,\n",
              "        [0.5421, 5.1837, 0.5534,  ..., 0.9812, 0.1383, 0.9177],\n",
              "        [0.7040, 3.0168, 2.5714,  ..., 1.0257, 1.1870, 0.4897],\n",
              "        [1.4855, 7.3294, 2.9010,  ..., 1.2473, 1.1048, 0.3157]])"
            ]
          },
          "metadata": {},
          "execution_count": 36
        }
      ]
    },
    {
      "cell_type": "code",
      "source": [
        "probs = counts / counts.sum(1, keepdims=True)\n",
        "probs"
      ],
      "metadata": {
        "colab": {
          "base_uri": "https://localhost:8080/"
        },
        "id": "HzPRfwOXtvyU",
        "outputId": "87463285-0dee-4334-86c3-23698f550a89"
      },
      "execution_count": 38,
      "outputs": [
        {
          "output_type": "execute_result",
          "data": {
            "text/plain": [
              "tensor([[0.0936, 0.0407, 0.0059,  ..., 0.0239, 0.0599, 0.0257],\n",
              "        [0.0093, 0.0365, 0.0046,  ..., 0.0294, 0.1570, 0.0071],\n",
              "        [0.0049, 0.0047, 0.0857,  ..., 0.0044, 0.0299, 0.1024],\n",
              "        ...,\n",
              "        [0.0113, 0.1083, 0.0116,  ..., 0.0205, 0.0029, 0.0192],\n",
              "        [0.0170, 0.0730, 0.0622,  ..., 0.0248, 0.0287, 0.0118],\n",
              "        [0.0339, 0.1675, 0.0663,  ..., 0.0285, 0.0252, 0.0072]])"
            ]
          },
          "metadata": {},
          "execution_count": 38
        }
      ]
    },
    {
      "cell_type": "code",
      "source": [
        "xs = []\n",
        "ys = []\n",
        "word = '.emma.'\n",
        "for ch1, ch2 in zip(word, word[1:]):\n",
        "  xs.append(stoi[ch1])\n",
        "  ys.append(stoi[ch2])\n",
        "xs = torch.tensor(xs)\n",
        "ys = torch.tensor(ys)"
      ],
      "metadata": {
        "id": "7EGl1O7mt4ML"
      },
      "execution_count": 97,
      "outputs": []
    },
    {
      "cell_type": "code",
      "source": [
        "xs"
      ],
      "metadata": {
        "colab": {
          "base_uri": "https://localhost:8080/"
        },
        "id": "MDcQTN_-vbM5",
        "outputId": "a07b36c2-63bb-4ecd-8356-307df474cf1a"
      },
      "execution_count": 98,
      "outputs": [
        {
          "output_type": "execute_result",
          "data": {
            "text/plain": [
              "tensor([ 0,  5, 13, 13,  1])"
            ]
          },
          "metadata": {},
          "execution_count": 98
        }
      ]
    },
    {
      "cell_type": "code",
      "source": [
        "ys"
      ],
      "metadata": {
        "colab": {
          "base_uri": "https://localhost:8080/"
        },
        "id": "JiO0oatevc4z",
        "outputId": "5a0f13ae-1bf9-4e0f-87fb-ae898107c956"
      },
      "execution_count": 99,
      "outputs": [
        {
          "output_type": "execute_result",
          "data": {
            "text/plain": [
              "tensor([ 5, 13, 13,  1,  0])"
            ]
          },
          "metadata": {},
          "execution_count": 99
        }
      ]
    },
    {
      "cell_type": "code",
      "source": [
        "g = torch.Generator().manual_seed(2147483647)\n",
        "W = torch.randn((27, 27), generator=g, requires_grad=True)"
      ],
      "metadata": {
        "id": "_q_GAu04vdMO"
      },
      "execution_count": 100,
      "outputs": []
    },
    {
      "cell_type": "code",
      "source": [
        "xenc = torch.nn.functional.one_hot(xs, num_classes=27).float()\n",
        "logits = xenc @ W\n",
        "counts = logits.exp()\n",
        "probs = counts / counts.sum(1, keepdims=True)\n",
        "loss = -probs[torch.arange(5), ys].log().mean()\n",
        "loss.item()"
      ],
      "metadata": {
        "colab": {
          "base_uri": "https://localhost:8080/"
        },
        "id": "PDfl1mzmvnij",
        "outputId": "f36c1553-e43f-4df5-dacb-d9e346d976a1"
      },
      "execution_count": 101,
      "outputs": [
        {
          "output_type": "execute_result",
          "data": {
            "text/plain": [
              "3.7693049907684326"
            ]
          },
          "metadata": {},
          "execution_count": 101
        }
      ]
    },
    {
      "cell_type": "code",
      "source": [
        "xs, ys = [], []\n",
        "\n",
        "for w in words:\n",
        "  w = ['.'] + list(w) + ['.']\n",
        "  for ch1, ch2 in zip(w, w[1:]):\n",
        "    ix1 = stoi[ch1]\n",
        "    ix2 = stoi[ch2]\n",
        "    xs.append(ix1)\n",
        "    ys.append(ix2)\n",
        "\n",
        "xs = torch.tensor(xs)\n",
        "ys = torch.tensor(ys)\n",
        "xenc = torch.nn.functional.one_hot(xs, num_classes=27).float()"
      ],
      "metadata": {
        "id": "uEW16bMqz7le"
      },
      "execution_count": 102,
      "outputs": []
    },
    {
      "cell_type": "code",
      "source": [
        "for k in range(100):\n",
        "  logits = xenc @ W\n",
        "  counts = logits.exp()\n",
        "  probs = counts / counts.sum(1, keepdims=True)\n",
        "  loss = -probs[torch.arange(len(xenc)), ys].log().mean() + 0.01*(W**2).mean() # (This is regularization)\n",
        "\n",
        "  W.grad = None\n",
        "  loss.backward()\n",
        "\n",
        "  W.data -= 50 * W.grad\n",
        "\n",
        "  if (k + 1) % 10 == 0:\n",
        "    print(f'Epoch: {k+1}, Loss: {loss.item()}')"
      ],
      "metadata": {
        "colab": {
          "base_uri": "https://localhost:8080/"
        },
        "id": "5khU-08uxpBB",
        "outputId": "668f712f-3e97-40a7-d34b-d644614db392"
      },
      "execution_count": 107,
      "outputs": [
        {
          "output_type": "stream",
          "name": "stdout",
          "text": [
            "Epoch: 10, Loss: 2.481760263442993\n",
            "Epoch: 20, Loss: 2.4816858768463135\n",
            "Epoch: 30, Loss: 2.4816172122955322\n",
            "Epoch: 40, Loss: 2.481553316116333\n",
            "Epoch: 50, Loss: 2.4814937114715576\n",
            "Epoch: 60, Loss: 2.481438636779785\n",
            "Epoch: 70, Loss: 2.481386661529541\n",
            "Epoch: 80, Loss: 2.4813385009765625\n",
            "Epoch: 90, Loss: 2.481292724609375\n",
            "Epoch: 100, Loss: 2.481250762939453\n"
          ]
        }
      ]
    },
    {
      "cell_type": "code",
      "source": [
        "g = torch.Generator().manual_seed(2147483647)\n",
        "names = []\n",
        "for i in range(10):\n",
        "  ix = torch.tensor(0)\n",
        "  name = \"\"\n",
        "  while True:\n",
        "    ix = torch.nn.functional.one_hot(torch.tensor([ix]), num_classes=27).float()\n",
        "    logits = ix @ W\n",
        "    probs = logits.softmax(1)\n",
        "    ix = torch.multinomial(probs, num_samples=1, replacement=True, generator=g).item()\n",
        "    if ix == 0:\n",
        "      break\n",
        "    name += itos[ix]\n",
        "  names.append(name)\n",
        "\n",
        "names"
      ],
      "metadata": {
        "colab": {
          "base_uri": "https://localhost:8080/"
        },
        "id": "J2uTKsMo0ZDX",
        "outputId": "bcd4098a-6de8-43f8-d74a-34d524940a33"
      },
      "execution_count": 135,
      "outputs": [
        {
          "output_type": "execute_result",
          "data": {
            "text/plain": [
              "['junide',\n",
              " 'janasah',\n",
              " 'p',\n",
              " 'cfay',\n",
              " 'a',\n",
              " 'nn',\n",
              " 'kohin',\n",
              " 'tolian',\n",
              " 'juwe',\n",
              " 'ksahnaauranilevias']"
            ]
          },
          "metadata": {},
          "execution_count": 135
        }
      ]
    },
    {
      "cell_type": "code",
      "source": [],
      "metadata": {
        "id": "KAztvjXm46QR"
      },
      "execution_count": null,
      "outputs": []
    }
  ]
}